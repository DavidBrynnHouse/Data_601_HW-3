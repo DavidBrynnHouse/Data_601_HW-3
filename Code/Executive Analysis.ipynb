{
 "cells": [
  {
   "cell_type": "markdown",
   "metadata": {},
   "source": [
    "# Spam E-mail Classifier\n",
    "\n",
    "## Abstract\n",
    "\n",
    "The purpose of this project is to create a filter which can determine whether or not an incoming message is spam or not. The training data consisted of 4601 rows each with 58 features. The features observed included word frequency using the equation:\n",
    "\n",
    "$$ 100 \\cdot \\frac{\\mbox{Number of times word appears}}{\\mbox{Total number of words}} $$\n",
    "\n",
    "We were able to create a model which could predict the label of a spam or ham email with an 89.8% accuracy.\n",
    "\n",
    "## Introduction\n",
    "\n",
    "Spam emails are familiar to anyone with an email address. They can range from the pesky advertisments from retailers to the insidious phishing emails from hackers. All reputable email services offer some form of spam filter which classifies emails based on there content and segregates those deemed to be spam. This project seeks to replicate this process using a data set obtained from https://www.kaggle.com/monizearabadgi/spambase. The data is pre-labeled as either ham or spam. The method we will use to determine wheater an email is spam or not is to look at word frequency and sequences of capital letters. This should be an effective method as spam emails tend to contain different words than regularly composed emails.\n",
    "\n",
    "## Research Questions\n",
    "\n",
    "* Can a reliable spam filter be created by observing word frequency in labeled email data?\n",
    "* What level of accuracy can a classification model achieve when classifying spam emails?\n",
    "\n"
   ]
  },
  {
   "cell_type": "code",
   "execution_count": 30,
   "metadata": {},
   "outputs": [
    {
     "name": "stdout",
     "output_type": "stream",
     "text": [
      "make                 False\n",
      "address              False\n",
      "all                  False\n",
      "3d                   False\n",
      "our                  False\n",
      "over                 False\n",
      "remove               False\n",
      "internet             False\n",
      "order                False\n",
      "mail                 False\n",
      "receive              False\n",
      "will                 False\n",
      "people               False\n",
      "report               False\n",
      "adresses             False\n",
      "free                 False\n",
      "business             False\n",
      "email                False\n",
      "you                  False\n",
      "credit               False\n",
      "your                 False\n",
      "font                 False\n",
      "000                  False\n",
      "money                False\n",
      "hp                   False\n",
      "hpl                  False\n",
      "george               False\n",
      "650                  False\n",
      "lab                  False\n",
      "labs                 False\n",
      "telnet               False\n",
      "857                  False\n",
      "data                 False\n",
      "415                  False\n",
      "85                   False\n",
      "technology           False\n",
      "1999                 False\n",
      "parts                False\n",
      "pm                   False\n",
      "direct               False\n",
      "cs                   False\n",
      "meeting              False\n",
      "original             False\n",
      "project              False\n",
      "re                   False\n",
      "edu                  False\n",
      "table                False\n",
      "conference           False\n",
      ";                    False\n",
      "(                    False\n",
      "[                    False\n",
      "!                    False\n",
      "$                    False\n",
      "#                    False\n",
      "Cap-avg-length       False\n",
      "Cap-max-length       False\n",
      "capital-run-total    False\n",
      "Unnamed: 57          False\n",
      "dtype: bool\n"
     ]
    }
   ],
   "source": [
    "import pandas as pd\n",
    "from sklearn.model_selection import train_test_split\n",
    "from sklearn.model_selection import cross_val_score\n",
    "from sklearn.tree import DecisionTreeClassifier\n",
    "from sklearn.metrics import accuracy_score\n",
    "from sklearn.neighbors import KNeighborsClassifier\n",
    "from sklearn import svm\n",
    "\n",
    "# Load data from csv\n",
    "spam_data = pd.read_csv(\"../Data/spambase.csv\")\n",
    "\n",
    "# Check if there are any missing values for any of the features.\n",
    "print(spam_data.isnull().any())\n",
    "\n",
    "# The data was already clean so all I needed to do was split it into features and labels\n",
    "X = spam_data.iloc[:,:-1] \n",
    "y = spam_data.iloc[:,-1] "
   ]
  },
  {
   "cell_type": "code",
   "execution_count": 31,
   "metadata": {},
   "outputs": [
    {
     "name": "stdout",
     "output_type": "stream",
     "text": [
      "Accuracy: 0.87 (+/- 0.10)\n"
     ]
    }
   ],
   "source": [
    "# Train an svm on the labeled data to learn about ham and spam emails\n",
    "svm_classifier = svm.SVC(gamma=0.001, C=100.)\n",
    "svm_scores = cross_val_score(svm_classifier, X, y, cv=5)\n",
    "print(\"Accuracy: %0.2f (+/- %0.2f)\" % (svm_scores.mean(), svm_scores.std() * 2))"
   ]
  },
  {
   "cell_type": "code",
   "execution_count": 32,
   "metadata": {},
   "outputs": [
    {
     "name": "stdout",
     "output_type": "stream",
     "text": [
      "Accuracy: 0.77 (+/- 0.07)\n"
     ]
    }
   ],
   "source": [
    "# Train a K-nearest neighbors on the labeled data\n",
    "knn_classifier = KNeighborsClassifier()\n",
    "knn_scores = cross_val_score(knn_classifier, X, y, cv=5)\n",
    "print(\"Accuracy: %0.2f (+/- %0.2f)\" % (knn_scores.mean(), knn_scores.std() * 2))"
   ]
  },
  {
   "cell_type": "code",
   "execution_count": 33,
   "metadata": {},
   "outputs": [
    {
     "name": "stdout",
     "output_type": "stream",
     "text": [
      "Accuracy: 0.89 (+/- 0.10)\n"
     ]
    }
   ],
   "source": [
    "# Train a Decision tree on the labeled data\n",
    "dtree_classifier = DecisionTreeClassifier(random_state=0)\n",
    "dtree_scores = cross_val_score(dtree_classifier, X, y, cv=5)\n",
    "print(\"Accuracy: %0.2f (+/- %0.2f)\" % (dtree_scores.mean(), dtree_scores.std() * 2))"
   ]
  },
  {
   "cell_type": "markdown",
   "metadata": {},
   "source": [
    "## Results\n",
    "\n",
    "Out of the three classifications algorithms that I used the decision tree and the support vector machine performed very similarly. Each correctly predicted 90 percent of the test data on average, with a 10 percent standard deviation. The k-nearest neighbors performed the worst, correctly predicting 77 percent of the test data with a standard deviation of 7 percent.\n",
    "\n",
    "## Conclusion\n",
    "\n",
    "Since there is very little difference between the performance of either the svm or the decision tree we could choose either one with similar results to filter spam. Based on the high level of accuracy achived by both of these methods we can be safe in our assumption that the data provided was sufficent and the method of learning was appropriate.\n",
    "\n",
    "## Limitations and Future Work\n",
    "\n",
    "One major limitation to this work was that all of the emails were delivered to and labeled by a single person. To remedy this we could look at emails collected and labeled by multiple people to create a more accurate and precise spam filter. In order to improve this algorithm we could integrate it with an email app so that anytime a message is labeled as spam or not spam it would update the dataset. This would require the creation of an algorithm to convert an emial message into its word count frequency. Another future improvement to this project could be to determine what sort of emails this is mis labeling. By knowing if it is missing spam emails or innapropriatly labeling ham as spam we could tweek hyper-parameters to improve its accuracy.\n",
    "\n",
    "\n"
   ]
  },
  {
   "cell_type": "code",
   "execution_count": null,
   "metadata": {},
   "outputs": [],
   "source": []
  }
 ],
 "metadata": {
  "kernelspec": {
   "display_name": "Python 3",
   "language": "python",
   "name": "python3"
  },
  "language_info": {
   "codemirror_mode": {
    "name": "ipython",
    "version": 3
   },
   "file_extension": ".py",
   "mimetype": "text/x-python",
   "name": "python",
   "nbconvert_exporter": "python",
   "pygments_lexer": "ipython3",
   "version": "3.8.3"
  }
 },
 "nbformat": 4,
 "nbformat_minor": 4
}
